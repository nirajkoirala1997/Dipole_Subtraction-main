{
 "cells": [
  {
   "cell_type": "code",
   "execution_count": 1,
   "id": "b26ada34",
   "metadata": {},
   "outputs": [],
   "source": [
    "from __future__ import print_function"
   ]
  },
  {
   "cell_type": "code",
   "execution_count": 1,
   "id": "62b4b036",
   "metadata": {},
   "outputs": [
    {
     "name": "stdout",
     "output_type": "stream",
     "text": [
      "itn   integral        wgt average     chi2/dof        Q\n",
      "-------------------------------------------------------\n",
      "  1   0.951(44)       0.951(44)           0.00     1.00\n",
      "  2   1.0109(44)      1.0102(44)          1.88     0.17\n",
      "  3   0.9996(32)      1.0032(26)          2.87     0.06\n",
      "  4   0.9990(28)      1.0013(19)          2.32     0.07\n",
      "  5   0.9990(23)      1.0003(14)          1.90     0.11\n",
      "  6   0.9993(20)      1.0000(12)          1.55     0.17\n",
      "  7   0.9983(18)      0.99949(98)         1.40     0.21\n",
      "  8   1.0009(16)      0.99985(84)         1.27     0.26\n",
      "  9   0.9990(15)      0.99964(73)         1.15     0.33\n",
      " 10   1.0020(14)      1.00015(65)         1.26     0.25\n",
      "\n",
      "result = 1.00015(65)    Q = 0.25\n"
     ]
    }
   ],
   "source": [
    "import vegas\n",
    "import math\n",
    "\n",
    "def f(x):\n",
    "    dx2 = 0\n",
    "    for d in range(4):\n",
    "        dx2 += (x[d] - 0.5) ** 2\n",
    "    return math.exp(-dx2 * 100.) * 1013.2118364296088\n",
    "\n",
    "integ = vegas.Integrator([[-1, 1], [0, 1], [0, 1], [0, 1]])\n",
    "\n",
    "result = integ(f, nitn=10, neval=100000,alpha=0.1)\n",
    "print(result.summary())\n",
    "print('result = %s    Q = %.2f' % (result, result.Q))"
   ]
  },
  {
   "cell_type": "code",
   "execution_count": null,
   "id": "8d1130d6",
   "metadata": {},
   "outputs": [],
   "source": []
  }
 ],
 "metadata": {
  "kernelspec": {
   "display_name": "Python 3 (ipykernel)",
   "language": "python",
   "name": "python3"
  },
  "language_info": {
   "codemirror_mode": {
    "name": "ipython",
    "version": 3
   },
   "file_extension": ".py",
   "mimetype": "text/x-python",
   "name": "python",
   "nbconvert_exporter": "python",
   "pygments_lexer": "ipython3",
   "version": "3.10.14"
  }
 },
 "nbformat": 4,
 "nbformat_minor": 5
}
