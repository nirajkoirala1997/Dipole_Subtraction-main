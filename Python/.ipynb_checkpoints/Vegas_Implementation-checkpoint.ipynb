{
 "cells": [
  {
   "cell_type": "code",
   "execution_count": 1,
   "id": "b26ada34",
   "metadata": {},
   "outputs": [],
   "source": [
    "from __future__ import print_function"
   ]
  },
  {
   "cell_type": "code",
   "execution_count": 7,
   "id": "018b7066",
   "metadata": {},
   "outputs": [
    {
     "name": "stdout",
     "output_type": "stream",
     "text": [
      "Collecting vegas\n",
      "  Downloading vegas-6.1.3-cp39-cp39-manylinux_2_17_x86_64.manylinux2014_x86_64.whl (3.8 MB)\n",
      "\u001b[K     |████████████████████████████████| 3.8 MB 2.2 MB/s eta 0:00:01\n",
      "\u001b[?25hCollecting gvar>=13.0.1\n",
      "  Downloading gvar-13.1.1-cp39-cp39-manylinux_2_17_x86_64.manylinux2014_x86_64.whl (7.4 MB)\n",
      "\u001b[K     |████████████████████████████████| 7.4 MB 3.1 MB/s eta 0:00:011\n",
      "\u001b[?25hCollecting numpy>=1.24\n",
      "  Downloading numpy-2.0.1-cp39-cp39-manylinux_2_17_x86_64.manylinux2014_x86_64.whl (19.5 MB)\n",
      "\u001b[K     |████████████████████████████████| 19.5 MB 2.3 MB/s eta 0:00:01\n",
      "\u001b[?25hCollecting scipy>=1.11\n",
      "  Downloading scipy-1.13.1-cp39-cp39-manylinux_2_17_x86_64.manylinux2014_x86_64.whl (38.6 MB)\n",
      "\u001b[K     |████████████████████████████████| 38.6 MB 966 kB/s eta 0:00:01\n",
      "\u001b[?25hInstalling collected packages: numpy, scipy, gvar, vegas\n",
      "  Attempting uninstall: numpy\n",
      "    Found existing installation: numpy 1.20.3\n",
      "    Uninstalling numpy-1.20.3:\n",
      "      Successfully uninstalled numpy-1.20.3\n",
      "  Attempting uninstall: scipy\n",
      "    Found existing installation: scipy 1.7.1\n",
      "    Uninstalling scipy-1.7.1:\n",
      "      Successfully uninstalled scipy-1.7.1\n",
      "\u001b[31mERROR: pip's dependency resolver does not currently take into account all the packages that are installed. This behaviour is the source of the following dependency conflicts.\n",
      "daal4py 2021.3.0 requires daal==2021.2.3, which is not installed.\n",
      "numba 0.54.1 requires numpy<1.21,>=1.17, but you have numpy 2.0.1 which is incompatible.\u001b[0m\n",
      "Successfully installed gvar-13.1.1 numpy-2.0.1 scipy-1.13.1 vegas-6.1.3\n"
     ]
    }
   ],
   "source": [
    "!/home/niraj/anaconda3/bin/python -m pip install vegas"
   ]
  },
  {
   "cell_type": "code",
   "execution_count": 8,
   "id": "fc597094",
   "metadata": {},
   "outputs": [
    {
     "name": "stdout",
     "output_type": "stream",
     "text": [
      "6.1.3\n"
     ]
    }
   ],
   "source": [
    "import vegas\n",
    "print(vegas.__version__)"
   ]
  },
  {
   "cell_type": "code",
   "execution_count": 10,
   "id": "78cb6096",
   "metadata": {},
   "outputs": [
    {
     "name": "stdout",
     "output_type": "stream",
     "text": [
      "# conda environments:\r\n",
      "#\r\n",
      "base                  *  /home/niraj/anaconda3\r\n",
      "\r\n"
     ]
    }
   ],
   "source": [
    "!conda env list"
   ]
  },
  {
   "cell_type": "code",
   "execution_count": 9,
   "id": "62b4b036",
   "metadata": {},
   "outputs": [
    {
     "name": "stdout",
     "output_type": "stream",
     "text": [
      "itn   integral        wgt average     chi2/dof        Q\n",
      "-------------------------------------------------------\n",
      "  1   0.84(53)        0.84(53)            0.00     1.00\n",
      "  2   0.840(88)       0.840(87)           0.00     1.00\n",
      "  3   0.96(12)        0.880(71)           0.33     0.72\n",
      "  4   1.023(54)       0.970(43)           1.06     0.36\n",
      "  5   0.943(34)       0.953(27)           0.86     0.49\n",
      "  6   0.949(26)       0.951(19)           0.69     0.63\n",
      "  7   0.998(19)       0.974(13)           1.09     0.37\n",
      "  8   1.019(16)       0.993(10)           1.62     0.12\n",
      "  9   1.013(13)       1.0007(79)          1.63     0.11\n",
      " 10   1.007(12)       1.0027(66)          1.47     0.15\n",
      "\n",
      "result = 1.0027(66)    Q = 0.15\n"
     ]
    }
   ],
   "source": [
    "import vegas\n",
    "import math\n",
    "\n",
    "def f(x):\n",
    "    dx2 = 0\n",
    "    for d in range(4):\n",
    "        dx2 += (x[d] - 0.5) ** 2\n",
    "    return math.exp(-dx2 * 100.) * 1013.2118364296088\n",
    "\n",
    "integ = vegas.Integrator([[-1, 1], [0, 1], [0, 1], [0, 1]])\n",
    "\n",
    "result = integ(f, nitn=10, neval=1000)\n",
    "print(result.summary())\n",
    "print('result = %s    Q = %.2f' % (result, result.Q))"
   ]
  },
  {
   "cell_type": "code",
   "execution_count": null,
   "id": "8d1130d6",
   "metadata": {},
   "outputs": [],
   "source": []
  }
 ],
 "metadata": {
  "kernelspec": {
   "display_name": "Python 3 (ipykernel)",
   "language": "python",
   "name": "python3"
  },
  "language_info": {
   "codemirror_mode": {
    "name": "ipython",
    "version": 3
   },
   "file_extension": ".py",
   "mimetype": "text/x-python",
   "name": "python",
   "nbconvert_exporter": "python",
   "pygments_lexer": "ipython3",
   "version": "3.9.7"
  }
 },
 "nbformat": 4,
 "nbformat_minor": 5
}
