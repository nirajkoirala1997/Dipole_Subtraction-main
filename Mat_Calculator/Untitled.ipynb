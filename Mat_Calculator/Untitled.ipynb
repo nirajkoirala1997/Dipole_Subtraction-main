{
 "cells": [
  {
   "cell_type": "code",
   "execution_count": 1,
   "id": "dbd36f14",
   "metadata": {},
   "outputs": [
    {
     "name": "stdout",
     "output_type": "stream",
     "text": [
      "DrellYan\t\t Qgraf\t\t gg2aa\t\t main_files\r\n",
      "DrellYan1\t\t Untitled.ipynb  gg2h_effective  niraj_tests\r\n",
      "Mat_Calculator_scripted  diphoton\t gg2qQ\r\n"
     ]
    }
   ],
   "source": [
    "!ls"
   ]
  },
  {
   "cell_type": "code",
   "execution_count": null,
   "id": "9f2f57c3",
   "metadata": {},
   "outputs": [],
   "source": []
  }
 ],
 "metadata": {
  "kernelspec": {
   "display_name": "Python 3 (ipykernel)",
   "language": "python",
   "name": "python3"
  },
  "language_info": {
   "codemirror_mode": {
    "name": "ipython",
    "version": 3
   },
   "file_extension": ".py",
   "mimetype": "text/x-python",
   "name": "python",
   "nbconvert_exporter": "python",
   "pygments_lexer": "ipython3",
   "version": "3.9.7"
  }
 },
 "nbformat": 4,
 "nbformat_minor": 5
}
